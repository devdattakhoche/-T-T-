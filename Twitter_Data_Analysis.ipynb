{
  "nbformat": 4,
  "nbformat_minor": 0,
  "metadata": {
    "colab": {
      "name": "Twitter Data Analysis",
      "provenance": [],
      "collapsed_sections": [],
      "authorship_tag": "ABX9TyMpQV0wQjCHyI4nWM3sFHuw",
      "include_colab_link": true
    },
    "kernelspec": {
      "name": "python3",
      "display_name": "Python 3"
    },
    "language_info": {
      "name": "python"
    },
    "accelerator": "GPU"
  },
  "cells": [
    {
      "cell_type": "markdown",
      "metadata": {
        "id": "view-in-github",
        "colab_type": "text"
      },
      "source": [
        "<a href=\"https://colab.research.google.com/github/devdattakhoche/General_Purpose_Repo/blob/master/Twitter_Data_Analysis.ipynb\" target=\"_parent\"><img src=\"https://colab.research.google.com/assets/colab-badge.svg\" alt=\"Open In Colab\"/></a>"
      ]
    },
    {
      "cell_type": "markdown",
      "metadata": {
        "id": "wUqlqcxhBlyX"
      },
      "source": [
        "## Installing Required Packages"
      ]
    },
    {
      "cell_type": "code",
      "metadata": {
        "colab": {
          "base_uri": "https://localhost:8080/"
        },
        "id": "1OtSAuZ2ybun",
        "outputId": "993ba292-5d9d-4cbd-935e-87622b3169bc"
      },
      "source": [
        "!pip install tweet-preprocessor"
      ],
      "execution_count": 1,
      "outputs": [
        {
          "output_type": "stream",
          "text": [
            "Requirement already satisfied: tweet-preprocessor in /usr/local/lib/python3.7/dist-packages (0.6.0)\n"
          ],
          "name": "stdout"
        }
      ]
    },
    {
      "cell_type": "markdown",
      "metadata": {
        "id": "TgH_xF5tBLTG"
      },
      "source": [
        "## Importing Libraries"
      ]
    },
    {
      "cell_type": "code",
      "metadata": {
        "colab": {
          "base_uri": "https://localhost:8080/"
        },
        "id": "TqZAL6qRp4mz",
        "outputId": "700ed392-66f6-44f0-833e-4cbe93ea19fe"
      },
      "source": [
        "\n",
        "\n",
        "# Natural Language Toolkit\n",
        "import nltk\n",
        "from nltk.corpus import stopwords\n",
        "from nltk.tokenize import word_tokenize\n",
        "from nltk.stem.porter import PorterStemmer\n",
        "nltk.download('punkt')\n",
        "nltk.download('stopwords')\n",
        "\n",
        "# Sklearn Imports\n",
        "from sklearn import svm\n",
        "from sklearn.metrics import accuracy_score\n",
        "from sklearn.metrics import confusion_matrix\n",
        "from sklearn.naive_bayes import GaussianNB\n",
        "from sklearn.ensemble import RandomForestClassifier\n",
        "from sklearn.linear_model import LogisticRegression\n",
        "from sklearn.model_selection import train_test_split\n",
        "from sklearn.feature_extraction.text import CountVectorizer\n",
        "\n",
        "# Preprocessing Imports\n",
        "import re\n",
        "import preprocessor as p\n",
        "from gensim.parsing.preprocessing import remove_stopwords\n",
        "import pandas as pd\n",
        "\n",
        "# Visulisation Imports\n",
        "import matplotlib.pyplot as plt\n",
        "import seaborn as sns\n",
        "\n",
        "\n"
      ],
      "execution_count": 2,
      "outputs": [
        {
          "output_type": "stream",
          "text": [
            "[nltk_data] Downloading package punkt to /root/nltk_data...\n",
            "[nltk_data]   Package punkt is already up-to-date!\n",
            "[nltk_data] Downloading package stopwords to /root/nltk_data...\n",
            "[nltk_data]   Package stopwords is already up-to-date!\n"
          ],
          "name": "stdout"
        }
      ]
    },
    {
      "cell_type": "markdown",
      "metadata": {
        "id": "zcUHihokBUIb"
      },
      "source": [
        "## Loading Dataset"
      ]
    },
    {
      "cell_type": "code",
      "metadata": {
        "colab": {
          "base_uri": "https://localhost:8080/"
        },
        "id": "hOR991IiqAIs",
        "outputId": "4bc8b221-deb6-4354-b1c1-4498b1efedc4"
      },
      "source": [
        "df = pd.read_csv('https://tinyurl.com/ts9ktc2u')\n",
        "df.count()"
      ],
      "execution_count": 3,
      "outputs": [
        {
          "output_type": "execute_result",
          "data": {
            "text/plain": [
              "label    41258\n",
              "text     41258\n",
              "dtype: int64"
            ]
          },
          "metadata": {
            "tags": []
          },
          "execution_count": 3
        }
      ]
    },
    {
      "cell_type": "markdown",
      "metadata": {
        "id": "-xiWyYEqsLRb"
      },
      "source": [
        "## Preprocessing"
      ]
    },
    {
      "cell_type": "code",
      "metadata": {
        "id": "d60n8DW6qOHz"
      },
      "source": [
        "df = df.dropna()\n",
        "df = df.drop_duplicates()\n",
        "y=df['label']\n",
        "df.drop(['label'],inplace=True,axis=1)\n",
        "\n",
        "def preprocess_tweet(row):\n",
        "    text = row['text']\n",
        "    text = p.clean(text)\n",
        "    return text\n",
        "\n",
        "def stopword_removal(row):\n",
        "    text = row['text']\n",
        "    text = remove_stopwords(text)\n",
        "    return text\n",
        "\n",
        "df['text'] = df.apply(stopword_removal, axis=1)\n",
        "df['text'] = df.apply(preprocess_tweet, axis=1)\n",
        "df['text'] = df['text'].str.lower().str.replace('[^\\w\\s]',' ').str.replace('\\s\\s+', ' ')"
      ],
      "execution_count": 4,
      "outputs": []
    },
    {
      "cell_type": "markdown",
      "metadata": {
        "id": "S3tEiPscApdj"
      },
      "source": [
        "## Tokenizing Sentences"
      ]
    },
    {
      "cell_type": "code",
      "metadata": {
        "id": "St9hOtZSsms0"
      },
      "source": [
        "df['text'] = df['text'].apply(word_tokenize)"
      ],
      "execution_count": 5,
      "outputs": []
    },
    {
      "cell_type": "markdown",
      "metadata": {
        "id": "i5-wVItIAu3t"
      },
      "source": [
        "## Stemming"
      ]
    },
    {
      "cell_type": "code",
      "metadata": {
        "id": "UxSILGqitBz2"
      },
      "source": [
        "stemmer = PorterStemmer()\n",
        "def stem_words(text):       \n",
        "    return \" \".join([stemmer.stem(word) for word in text])\n",
        "df['text'] = df['text'].apply(lambda text: stem_words(text))"
      ],
      "execution_count": 6,
      "outputs": []
    },
    {
      "cell_type": "markdown",
      "metadata": {
        "id": "t2WlQGbvAyqm"
      },
      "source": [
        "## Converting Text to Vector\n",
        "This is necesary so that machine will be able understand the data.We are doing this by converting string to vectos "
      ]
    },
    {
      "cell_type": "code",
      "metadata": {
        "id": "wzDbwBaHt8ru"
      },
      "source": [
        "bow=CountVectorizer(min_df=2,max_features=100000)\n",
        "bow.fit(df['text'])\n",
        "text_processed = bow.transform(df['text']).toarray()"
      ],
      "execution_count": 7,
      "outputs": []
    },
    {
      "cell_type": "markdown",
      "metadata": {
        "id": "dzzZqDtWBFjd"
      },
      "source": [
        "## Train-Test-Split"
      ]
    },
    {
      "cell_type": "code",
      "metadata": {
        "id": "NK19N9Qat_aG"
      },
      "source": [
        "X_train, X_test, y_train, y_test = train_test_split(text_processed, y, test_size=0.2)"
      ],
      "execution_count": 8,
      "outputs": []
    },
    {
      "cell_type": "markdown",
      "metadata": {
        "id": "jiLzHX8RBd2n"
      },
      "source": [
        "# Machine Learning Models"
      ]
    },
    {
      "cell_type": "code",
      "metadata": {
        "id": "pUR576ApCeQH"
      },
      "source": [
        "def plot_heatmap(y_pred , y_test):\n",
        "  cf_matrix = confusion_matrix(y_test, y_pred)\n",
        "  ax= plt.subplot()\n",
        "  #annot=True to annotate cells\n",
        "  sns.heatmap(cf_matrix, annot=True, ax = ax,cmap='Blues',fmt='');\n",
        "  # labels, title and ticks\n",
        "  ax.set_xlabel('Predicted labels');\n",
        "  ax.set_ylabel('True labels');\n",
        "  ax.set_title('Confusion Matrix');\n",
        "  ax.xaxis.set_ticklabels(['Positive', 'Negative']); ax.yaxis.set_ticklabels(['Positive', 'Negative']);\n"
      ],
      "execution_count": 9,
      "outputs": []
    },
    {
      "cell_type": "markdown",
      "metadata": {
        "id": "URr6wtzy-ZV0"
      },
      "source": [
        "## Logistic Regression"
      ]
    },
    {
      "cell_type": "code",
      "metadata": {
        "colab": {
          "base_uri": "https://localhost:8080/",
          "height": 312
        },
        "id": "mUv1x4Oh0jg2",
        "outputId": "72bfb379-f533-4d2c-81c9-3c3d3093b8cd"
      },
      "source": [
        "logistic = LogisticRegression()\n",
        "logistic.fit(X_train, y_train)\n",
        "y_pred = logistic.predict(X_test)\n",
        "print(\"Accuracy : \",accuracy_score(y_pred,y_test)*100)\n",
        "plot_heatmap(y_pred,y_test)"
      ],
      "execution_count": 10,
      "outputs": [
        {
          "output_type": "stream",
          "text": [
            "Accuracy :  97.63587618815501\n"
          ],
          "name": "stdout"
        },
        {
          "output_type": "display_data",
          "data": {
            "image/png": "[encoded data removed]",
            "text/plain": [
              "<Figure size 432x288 with 2 Axes>"
            ]
          },
          "metadata": {
            "tags": [],
            "needs_background": "light"
          }
        }
      ]
    },
    {
      "cell_type": "markdown",
      "metadata": {
        "id": "spnyeYie-j2W"
      },
      "source": [
        "## Random Forest Classifier"
      ]
    },
    {
      "cell_type": "code",
      "metadata": {
        "colab": {
          "base_uri": "https://localhost:8080/",
          "height": 312
        },
        "id": "kl99nX6q-C7z",
        "outputId": "987e00e3-21b2-4a39-8891-1fe07accf89f"
      },
      "source": [
        "ranfor=RandomForestClassifier(n_estimators=100)\n",
        "ranfor.fit(X_train,y_train)\n",
        "y_pred = ranfor.predict(X_test)\n",
        "print(\"Accuracy : \",accuracy_score(y_pred,y_test)*100)\n",
        "plot_heatmap(y_pred,y_test)"
      ],
      "execution_count": 11,
      "outputs": [
        {
          "output_type": "stream",
          "text": [
            "Accuracy :  96.45381428223251\n"
          ],
          "name": "stdout"
        },
        {
          "output_type": "display_data",
          "data": {
            "image/png": "[encoded data removed]",
            "text/plain": [
              "<Figure size 432x288 with 2 Axes>"
            ]
          },
          "metadata": {
            "tags": [],
            "needs_background": "light"
          }
        }
      ]
    },
    {
      "cell_type": "markdown",
      "metadata": {
        "id": "3V6eAFUH-fkN"
      },
      "source": [
        "## Naive Bayes Classifier"
      ]
    },
    {
      "cell_type": "code",
      "metadata": {
        "colab": {
          "base_uri": "https://localhost:8080/",
          "height": 312
        },
        "id": "L0PBelIt_Ctl",
        "outputId": "6fd1544d-85c1-4892-8626-bdc04a7e9d3f"
      },
      "source": [
        "gnb = GaussianNB()\n",
        "gnb.fit(X_train, y_train)\n",
        "y_pred = gnb.predict(X_test)\n",
        "print(\"Accuracy : \",accuracy_score(y_pred,y_test)*100)\n",
        "plot_heatmap(y_pred,y_test)"
      ],
      "execution_count": 12,
      "outputs": [
        {
          "output_type": "stream",
          "text": [
            "Accuracy :  70.27784547891787\n"
          ],
          "name": "stdout"
        },
        {
          "output_type": "display_data",
          "data": {
            "image/png": "[encoded data removed]",
            "text/plain": [
              "<Figure size 432x288 with 2 Axes>"
            ]
          },
          "metadata": {
            "tags": [],
            "needs_background": "light"
          }
        }
      ]
    }
  ]
}