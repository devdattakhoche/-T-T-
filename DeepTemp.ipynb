{
 "cells": [
  {
   "cell_type": "code",
   "execution_count": 1,
   "metadata": {},
   "outputs": [
    {
     "data": {
      "text/html": [
       "<div>\n",
       "<style scoped>\n",
       "    .dataframe tbody tr th:only-of-type {\n",
       "        vertical-align: middle;\n",
       "    }\n",
       "\n",
       "    .dataframe tbody tr th {\n",
       "        vertical-align: top;\n",
       "    }\n",
       "\n",
       "    .dataframe thead th {\n",
       "        text-align: right;\n",
       "    }\n",
       "</style>\n",
       "<table border=\"1\" class=\"dataframe\">\n",
       "  <thead>\n",
       "    <tr style=\"text-align: right;\">\n",
       "      <th></th>\n",
       "      <th>Number in the queue/DeptNumber</th>\n",
       "      <th>Shift (M/A/E)</th>\n",
       "      <th>Queue Type (Reg</th>\n",
       "      <th>Service Point</th>\n",
       "      <th>Created Queue Hours</th>\n",
       "      <th>Created Queue Day of Week</th>\n",
       "      <th>Waiting Duration</th>\n",
       "      <th>Number of Waiting Queue</th>\n",
       "      <th>Arrival Rate</th>\n",
       "      <th>Service Rate</th>\n",
       "    </tr>\n",
       "  </thead>\n",
       "  <tbody>\n",
       "    <tr>\n",
       "      <td>0</td>\n",
       "      <td>102</td>\n",
       "      <td>3</td>\n",
       "      <td>1</td>\n",
       "      <td>3</td>\n",
       "      <td>11</td>\n",
       "      <td>7</td>\n",
       "      <td>16</td>\n",
       "      <td>1</td>\n",
       "      <td>9</td>\n",
       "      <td>10</td>\n",
       "    </tr>\n",
       "    <tr>\n",
       "      <td>1</td>\n",
       "      <td>103</td>\n",
       "      <td>3</td>\n",
       "      <td>1</td>\n",
       "      <td>3</td>\n",
       "      <td>19</td>\n",
       "      <td>1</td>\n",
       "      <td>26</td>\n",
       "      <td>4</td>\n",
       "      <td>10</td>\n",
       "      <td>8</td>\n",
       "    </tr>\n",
       "    <tr>\n",
       "      <td>2</td>\n",
       "      <td>102</td>\n",
       "      <td>3</td>\n",
       "      <td>1</td>\n",
       "      <td>4</td>\n",
       "      <td>15</td>\n",
       "      <td>7</td>\n",
       "      <td>33</td>\n",
       "      <td>8</td>\n",
       "      <td>7</td>\n",
       "      <td>9</td>\n",
       "    </tr>\n",
       "    <tr>\n",
       "      <td>3</td>\n",
       "      <td>101</td>\n",
       "      <td>1</td>\n",
       "      <td>1</td>\n",
       "      <td>3</td>\n",
       "      <td>15</td>\n",
       "      <td>3</td>\n",
       "      <td>33</td>\n",
       "      <td>6</td>\n",
       "      <td>3</td>\n",
       "      <td>8</td>\n",
       "    </tr>\n",
       "    <tr>\n",
       "      <td>4</td>\n",
       "      <td>102</td>\n",
       "      <td>1</td>\n",
       "      <td>1</td>\n",
       "      <td>1</td>\n",
       "      <td>14</td>\n",
       "      <td>7</td>\n",
       "      <td>21</td>\n",
       "      <td>1</td>\n",
       "      <td>3</td>\n",
       "      <td>8</td>\n",
       "    </tr>\n",
       "  </tbody>\n",
       "</table>\n",
       "</div>"
      ],
      "text/plain": [
       "   Number in the queue/DeptNumber  Shift (M/A/E)  Queue Type (Reg  \\\n",
       "0                             102              3                1   \n",
       "1                             103              3                1   \n",
       "2                             102              3                1   \n",
       "3                             101              1                1   \n",
       "4                             102              1                1   \n",
       "\n",
       "   Service Point   Created Queue Hours  Created Queue Day of Week  \\\n",
       "0               3                   11                          7   \n",
       "1               3                   19                          1   \n",
       "2               4                   15                          7   \n",
       "3               3                   15                          3   \n",
       "4               1                   14                          7   \n",
       "\n",
       "   Waiting Duration  Number of Waiting Queue  Arrival Rate  Service Rate  \n",
       "0                16                        1             9            10  \n",
       "1                26                        4            10             8  \n",
       "2                33                        8             7             9  \n",
       "3                33                        6             3             8  \n",
       "4                21                        1             3             8  "
      ]
     },
     "execution_count": 1,
     "metadata": {},
     "output_type": "execute_result"
    }
   ],
   "source": [
    "import pandas as pd\n",
    "features = pd.read_csv('test.csv')\n",
    "features.head(5)\n"
   ]
  },
  {
   "cell_type": "code",
   "execution_count": 2,
   "metadata": {},
   "outputs": [
    {
     "name": "stdout",
     "output_type": "stream",
     "text": [
      "The shape of our features is: (70, 10)\n"
     ]
    }
   ],
   "source": [
    "print('The shape of our features is:', features.shape)"
   ]
  },
  {
   "cell_type": "code",
   "execution_count": 3,
   "metadata": {},
   "outputs": [
    {
     "data": {
      "text/html": [
       "<div>\n",
       "<style scoped>\n",
       "    .dataframe tbody tr th:only-of-type {\n",
       "        vertical-align: middle;\n",
       "    }\n",
       "\n",
       "    .dataframe tbody tr th {\n",
       "        vertical-align: top;\n",
       "    }\n",
       "\n",
       "    .dataframe thead th {\n",
       "        text-align: right;\n",
       "    }\n",
       "</style>\n",
       "<table border=\"1\" class=\"dataframe\">\n",
       "  <thead>\n",
       "    <tr style=\"text-align: right;\">\n",
       "      <th></th>\n",
       "      <th>Number in the queue/DeptNumber</th>\n",
       "      <th>Shift (M/A/E)</th>\n",
       "      <th>Queue Type (Reg</th>\n",
       "      <th>Service Point</th>\n",
       "      <th>Created Queue Hours</th>\n",
       "      <th>Created Queue Day of Week</th>\n",
       "      <th>Waiting Duration</th>\n",
       "      <th>Number of Waiting Queue</th>\n",
       "      <th>Arrival Rate</th>\n",
       "      <th>Service Rate</th>\n",
       "    </tr>\n",
       "  </thead>\n",
       "  <tbody>\n",
       "    <tr>\n",
       "      <td>count</td>\n",
       "      <td>70.000000</td>\n",
       "      <td>70.000000</td>\n",
       "      <td>70.000000</td>\n",
       "      <td>70.000000</td>\n",
       "      <td>70.000000</td>\n",
       "      <td>70.000000</td>\n",
       "      <td>70.000000</td>\n",
       "      <td>70.000000</td>\n",
       "      <td>70.000000</td>\n",
       "      <td>70.000000</td>\n",
       "    </tr>\n",
       "    <tr>\n",
       "      <td>mean</td>\n",
       "      <td>223.400000</td>\n",
       "      <td>2.128571</td>\n",
       "      <td>2.214286</td>\n",
       "      <td>2.571429</td>\n",
       "      <td>13.957143</td>\n",
       "      <td>4.000000</td>\n",
       "      <td>40.071429</td>\n",
       "      <td>4.914286</td>\n",
       "      <td>6.671429</td>\n",
       "      <td>31.214286</td>\n",
       "    </tr>\n",
       "    <tr>\n",
       "      <td>std</td>\n",
       "      <td>84.834434</td>\n",
       "      <td>0.899620</td>\n",
       "      <td>0.849430</td>\n",
       "      <td>1.136629</td>\n",
       "      <td>3.827572</td>\n",
       "      <td>1.985454</td>\n",
       "      <td>13.288680</td>\n",
       "      <td>2.887970</td>\n",
       "      <td>2.557860</td>\n",
       "      <td>19.341997</td>\n",
       "    </tr>\n",
       "    <tr>\n",
       "      <td>min</td>\n",
       "      <td>101.000000</td>\n",
       "      <td>1.000000</td>\n",
       "      <td>1.000000</td>\n",
       "      <td>1.000000</td>\n",
       "      <td>8.000000</td>\n",
       "      <td>1.000000</td>\n",
       "      <td>15.000000</td>\n",
       "      <td>0.000000</td>\n",
       "      <td>3.000000</td>\n",
       "      <td>1.000000</td>\n",
       "    </tr>\n",
       "    <tr>\n",
       "      <td>25%</td>\n",
       "      <td>103.000000</td>\n",
       "      <td>1.000000</td>\n",
       "      <td>1.000000</td>\n",
       "      <td>2.000000</td>\n",
       "      <td>11.000000</td>\n",
       "      <td>2.000000</td>\n",
       "      <td>30.000000</td>\n",
       "      <td>3.000000</td>\n",
       "      <td>4.000000</td>\n",
       "      <td>13.250000</td>\n",
       "    </tr>\n",
       "    <tr>\n",
       "      <td>50%</td>\n",
       "      <td>203.000000</td>\n",
       "      <td>2.000000</td>\n",
       "      <td>2.000000</td>\n",
       "      <td>3.000000</td>\n",
       "      <td>14.000000</td>\n",
       "      <td>4.000000</td>\n",
       "      <td>40.000000</td>\n",
       "      <td>5.000000</td>\n",
       "      <td>7.000000</td>\n",
       "      <td>30.500000</td>\n",
       "    </tr>\n",
       "    <tr>\n",
       "      <td>75%</td>\n",
       "      <td>302.000000</td>\n",
       "      <td>3.000000</td>\n",
       "      <td>3.000000</td>\n",
       "      <td>4.000000</td>\n",
       "      <td>17.000000</td>\n",
       "      <td>6.000000</td>\n",
       "      <td>51.750000</td>\n",
       "      <td>7.000000</td>\n",
       "      <td>9.000000</td>\n",
       "      <td>47.750000</td>\n",
       "    </tr>\n",
       "    <tr>\n",
       "      <td>max</td>\n",
       "      <td>303.000000</td>\n",
       "      <td>3.000000</td>\n",
       "      <td>3.000000</td>\n",
       "      <td>4.000000</td>\n",
       "      <td>20.000000</td>\n",
       "      <td>7.000000</td>\n",
       "      <td>60.000000</td>\n",
       "      <td>10.000000</td>\n",
       "      <td>10.000000</td>\n",
       "      <td>65.000000</td>\n",
       "    </tr>\n",
       "  </tbody>\n",
       "</table>\n",
       "</div>"
      ],
      "text/plain": [
       "       Number in the queue/DeptNumber  Shift (M/A/E)  Queue Type (Reg  \\\n",
       "count                       70.000000      70.000000        70.000000   \n",
       "mean                       223.400000       2.128571         2.214286   \n",
       "std                         84.834434       0.899620         0.849430   \n",
       "min                        101.000000       1.000000         1.000000   \n",
       "25%                        103.000000       1.000000         1.000000   \n",
       "50%                        203.000000       2.000000         2.000000   \n",
       "75%                        302.000000       3.000000         3.000000   \n",
       "max                        303.000000       3.000000         3.000000   \n",
       "\n",
       "       Service Point   Created Queue Hours  Created Queue Day of Week  \\\n",
       "count       70.000000            70.000000                  70.000000   \n",
       "mean         2.571429            13.957143                   4.000000   \n",
       "std          1.136629             3.827572                   1.985454   \n",
       "min          1.000000             8.000000                   1.000000   \n",
       "25%          2.000000            11.000000                   2.000000   \n",
       "50%          3.000000            14.000000                   4.000000   \n",
       "75%          4.000000            17.000000                   6.000000   \n",
       "max          4.000000            20.000000                   7.000000   \n",
       "\n",
       "       Waiting Duration  Number of Waiting Queue  Arrival Rate  Service Rate  \n",
       "count         70.000000                70.000000     70.000000     70.000000  \n",
       "mean          40.071429                 4.914286      6.671429     31.214286  \n",
       "std           13.288680                 2.887970      2.557860     19.341997  \n",
       "min           15.000000                 0.000000      3.000000      1.000000  \n",
       "25%           30.000000                 3.000000      4.000000     13.250000  \n",
       "50%           40.000000                 5.000000      7.000000     30.500000  \n",
       "75%           51.750000                 7.000000      9.000000     47.750000  \n",
       "max           60.000000                10.000000     10.000000     65.000000  "
      ]
     },
     "execution_count": 3,
     "metadata": {},
     "output_type": "execute_result"
    }
   ],
   "source": [
    "features.describe()"
   ]
  },
  {
   "cell_type": "code",
   "execution_count": 4,
   "metadata": {},
   "outputs": [],
   "source": [
    "import numpy as np\n",
    "# Labels are the values we want to predict\n",
    "labels = np.array(features['Waiting Duration'])\n",
    "# Remove the labels from the features\n",
    "# axis 1 refers to the columns\n",
    "features= features.drop('Waiting Duration', axis = 1)\n",
    "# Saving feature names for later use\n",
    "feature_list = list(features.columns)\n",
    "# Convert to numpy array\n",
    "features = np.array(features)"
   ]
  },
  {
   "cell_type": "code",
   "execution_count": 5,
   "metadata": {},
   "outputs": [],
   "source": [
    "from sklearn.model_selection import train_test_split\n",
    "train_features, test_features, train_labels, test_labels = train_test_split(features, labels, test_size = 0.25, random_state = 42)"
   ]
  },
  {
   "cell_type": "code",
   "execution_count": 6,
   "metadata": {},
   "outputs": [
    {
     "name": "stdout",
     "output_type": "stream",
     "text": [
      "Training Features Shape: (52, 9)\n",
      "Training Labels Shape: (52,)\n",
      "Testing Features Shape: (18, 9)\n",
      "Testing Labels Shape: (18,)\n"
     ]
    }
   ],
   "source": [
    "print('Training Features Shape:', train_features.shape)\n",
    "print('Training Labels Shape:', train_labels.shape)\n",
    "print('Testing Features Shape:', test_features.shape)\n",
    "print('Testing Labels Shape:', test_labels.shape)"
   ]
  },
  {
   "cell_type": "code",
   "execution_count": 7,
   "metadata": {},
   "outputs": [],
   "source": [
    "# # baseline_preds = test_features[:, feature_list.index('Average Wait Time')]\n",
    "# # Baseline errors, and display average baseline error\n",
    "# baseline_errors = abs(baseline_preds - test_labels)\n",
    "# print('Average baseline error: ', round(np.mean(baseline_errors), 2))"
   ]
  },
  {
   "cell_type": "code",
   "execution_count": 8,
   "metadata": {},
   "outputs": [],
   "source": [
    "from sklearn.ensemble import RandomForestRegressor\n",
    "# Instantiate model with 1000 decision trees\n",
    "rf = RandomForestRegressor(n_estimators = 1000, random_state = 42)\n",
    "# Train the model on training data\n",
    "rf.fit(train_features, train_labels);"
   ]
  },
  {
   "cell_type": "code",
   "execution_count": 9,
   "metadata": {},
   "outputs": [
    {
     "name": "stdout",
     "output_type": "stream",
     "text": [
      "[[202   3   2   2   9   1   3   8  18]\n",
      " [102   3   1   3  11   7   1   9  10]\n",
      " [301   3   3   4  16   6   5   7  45]\n",
      " [102   1   1   1  14   7   1   3   8]\n",
      " [302   2   3   3  16   6   6   5  50]\n",
      " [102   1   1   3  19   3   2   5  14]\n",
      " [101   3   1   1  13   2   8   5   6]\n",
      " [202   1   2   2  12   1   5   8  29]\n",
      " [301   3   3   4   8   4   9   8  41]\n",
      " [103   3   1   3  14   2   9   3   8]\n",
      " [203   2   2   4  12   4   7   4  27]\n",
      " [102   3   1   3  11   4   4  10   4]\n",
      " [302   3   3   4  20   2   5   8  63]\n",
      " [101   3   1   3  13   4   3  10   2]\n",
      " [303   1   3   4   9   6   4   7  58]\n",
      " [202   3   2   1  13   7   1   7  26]\n",
      " [301   2   3   4  13   6   3   5  54]\n",
      " [201   3   2   1  18   4   1   5  31]]\n",
      "Mean Absolute Error: 13.41 degrees.\n"
     ]
    }
   ],
   "source": [
    "predictions = rf.predict(test_features)\n",
    "print(test_features)\n",
    "# Calculate the absolute errors\n",
    "errors = abs(predictions - test_labels)\n",
    "# Print out the mean absolute error (mae)\n",
    "print('Mean Absolute Error:', round(np.mean(errors), 2), 'degrees.')"
   ]
  },
  {
   "cell_type": "code",
   "execution_count": 10,
   "metadata": {},
   "outputs": [
    {
     "name": "stdout",
     "output_type": "stream",
     "text": [
      "Accuracy: 58.9 %.\n"
     ]
    }
   ],
   "source": [
    "mape = 100 * (errors / test_labels)\n",
    "# Calculate and display accuracy\n",
    "accuracy = 100 - np.mean(mape)\n",
    "print('Accuracy:', round(accuracy, 2), '%.')"
   ]
  },
  {
   "cell_type": "code",
   "execution_count": 11,
   "metadata": {},
   "outputs": [
    {
     "name": "stdout",
     "output_type": "stream",
     "text": [
      "<class 'numpy.ndarray'>\n"
     ]
    }
   ],
   "source": [
    "y=np.array([[103],[123]])\n",
    "print(type(y))"
   ]
  },
  {
   "cell_type": "code",
   "execution_count": 12,
   "metadata": {
    "scrolled": true
   },
   "outputs": [
    {
     "data": {
      "text/plain": [
       "array([[103],\n",
       "       [123]])"
      ]
     },
     "execution_count": 12,
     "metadata": {},
     "output_type": "execute_result"
    }
   ],
   "source": [
    "y.reshape(-1,1)"
   ]
  },
  {
   "cell_type": "code",
   "execution_count": 15,
   "metadata": {},
   "outputs": [
    {
     "data": {
      "text/plain": [
       "array([43.795])"
      ]
     },
     "execution_count": 15,
     "metadata": {},
     "output_type": "execute_result"
    }
   ],
   "source": [
    "rf.predict([[4,3,2,1,20,2,12,5,65]])"
   ]
  },
  {
   "cell_type": "code",
   "execution_count": null,
   "metadata": {},
   "outputs": [],
   "source": []
  },
  {
   "cell_type": "code",
   "execution_count": null,
   "metadata": {},
   "outputs": [],
   "source": []
  }
 ],
 "metadata": {
  "kernelspec": {
   "display_name": "Python 3",
   "language": "python",
   "name": "python3"
  },
  "language_info": {
   "codemirror_mode": {
    "name": "ipython",
    "version": 3
   },
   "file_extension": ".py",
   "mimetype": "text/x-python",
   "name": "python",
   "nbconvert_exporter": "python",
   "pygments_lexer": "ipython3",
   "version": "3.7.4"
  }
 },
 "nbformat": 4,
 "nbformat_minor": 4
}
